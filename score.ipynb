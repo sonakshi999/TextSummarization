{
 "cells": [
  {
   "cell_type": "code",
   "execution_count": 1,
   "metadata": {},
   "outputs": [],
   "source": [
    "from nltk import sent_tokenize, word_tokenize\n",
    "from nltk.corpus import stopwords\n",
    "from nltk.stem import PorterStemmer\n",
    "\n",
    "ps = PorterStemmer()\n"
   ]
  },
  {
   "cell_type": "code",
   "execution_count": 2,
   "metadata": {},
   "outputs": [],
   "source": [
    "def text_preprocessing(sentences: list) -> list:\n",
    "    \"\"\"\n",
    "    Pre processing text to remove unnecessary words.\n",
    "    \"\"\"\n",
    "    print('Preprocessing text')\n",
    "\n",
    "    stop_words = set(stopwords.words('english'))\n",
    "\n",
    "    clean_words = []\n",
    "\n",
    "    for sent in sentences:\n",
    "        # Tokenizing words.\n",
    "        words = word_tokenize(sent.lower())\n",
    "        # Removing non alphabetic and numeric words.\n",
    "        words = [ps.stem(word) for word in words if word.isalnum()]\n",
    "        # Removing stopwords\n",
    "        clean_words += [word for word in words if word not in stop_words]\n",
    "\n",
    "    return clean_words"
   ]
  },
  {
   "cell_type": "code",
   "execution_count": 3,
   "metadata": {},
   "outputs": [],
   "source": [
    "def create_word_frequency_table(words: list) -> dict:\n",
    "    \"\"\"\n",
    "    Creating word frequency table which contains frequency of each word used in the text.\n",
    "    \"\"\"\n",
    "    print('Creating word frequency table')\n",
    "\n",
    "    freq_table = dict()\n",
    "\n",
    "    for word in words:\n",
    "        if word in freq_table:\n",
    "            freq_table[word] += 1\n",
    "        else:\n",
    "            freq_table[word] = 1\n",
    "\n",
    "    return freq_table"
   ]
  },
  {
   "cell_type": "code",
   "execution_count": 4,
   "metadata": {},
   "outputs": [],
   "source": [
    "def create_sentence_score_table(sentences: list, freq_table: dict) -> dict:\n",
    "    \"\"\"\n",
    "    Creating a dictionary to keep the score of each sentence.\n",
    "    Sore is the sum of frequency of words used in the sentence.\n",
    "    \"\"\"\n",
    "    print('Creating sentence score table')\n",
    "\n",
    "    sent_value = dict()\n",
    "    for sentence in sentences:\n",
    "        for word, freq in freq_table.items():\n",
    "            if ps.stem(word) in sentence.lower():\n",
    "                if sentence in sent_value:\n",
    "                    sent_value[sentence] += freq\n",
    "                else:\n",
    "                    sent_value[sentence] = freq\n",
    "\n",
    "    return sent_value"
   ]
  },
  {
   "cell_type": "code",
   "execution_count": 5,
   "metadata": {},
   "outputs": [],
   "source": [
    "def create_summary(sentence_values : dict,summary_sentence_count) -> dict:\n",
    "  summary = dict(sorted(sentence_values.items(), key=lambda item: item[1], reverse=True))\n",
    "  output = \"\"\n",
    "  c = 0\n",
    "  for pairs in summary:\n",
    "    if c < summary_sentence_count:\n",
    "        output += pairs\n",
    "\n",
    "    else:\n",
    "        break\n",
    "\n",
    "    c = c+1;\n",
    "  return output"
   ]
  },
  {
   "cell_type": "code",
   "execution_count": 6,
   "metadata": {},
   "outputs": [
    {
     "name": "stdout",
     "output_type": "stream",
     "text": [
      "process is starting\n",
      "It is always the problem of how to change an ideal into reality that gets in the way of both the leaders and the people. A thought is not a deed and never will be.\n",
      "\n",
      "We are not magic men. We cannot imagine something into existence - especially a change of behaviour. Just as we have been conditioned to be what we are now - greedy, competitive, stingy, mean - so we need to learn to love, to learn to be free.\n",
      "\n",
      "Freedom is a difficult thing to handle. How many people given the complete freedom to do whatever they like would die of boredom? No structure, no rules, no compulsion to work from nine to five, no one telling us when to do this, do that - it sounds great until we try it. We've learned to be directed by so many others - by mommy, daddy, teacher, principal, boss, policeman, politician, bureaucrat, etc. - that freedom from all this could be overwhelming. Imagine: making love, eating, sleeping, playing ... and ... ho, hum, now what? Where do you go and what do you do when the trip ends?\n",
      "\n",
      "Give people freedom and they'll do all the things they thought they never had a chance to do. But that won't take very long. And after that? After that, my friend, it'll be time to make your life meaningful.\n",
      "\n",
      "Can you do it if you're free? Can you do it if others no longer require you to do what they say is best? Authority is only necessary for those who need it. Most of us need it because we've been taught to believe that we have to be concerned about others. For instance: 'You're selfish if you think of yourself,' or even: 'Ask not what your country can do for you, ask what you can do for your country.'\n",
      "\n",
      "Sorry friends, but that's all Christian, authoritarian, manipulative bullshit. You've got to get in touch with what your real needs are before you can begin to be of value to others. The other-directedness of Americans that is promoted by mom, God, and the flag has pushed us to the precipice of Fascism in this country. We are no longer able to think for ourselves, we think for the 'good' of others. 'Who am I?', 'What do I really want out of life?' These are considered selfish questions. So a whole society goes down the drain. So it is with communes, whose members are too eager to help their curious 'brothers,' who find it remarkably easy to create all kinds of physical and figurative mess and then leave it for the members to clean up.\n",
      "\n",
      "Challenges to this traditional, other-directed, do-gooder mystique are met with admonitions and scoldings: 'Why are you so selfish, all the time thinking only about yourself? Don't you have any regard for the rights of others?' (The intent and frequent effect of such a question is to make one feel guilty and consequently willing to conform to the 'altruistic' wishes of others.) And because we have become so confused about what is really important to us as individuals, we believe these admonitions - and with good reason. Our demands are indeed 'selfish'. As we are no longer capable of knowing who we really are, we are compelled and desire to be like someone (everyone) else. We feel we must have money, a new car, power, position, prestige, and an all too material sense of personal worth.\n",
      "\n",
      "\n",
      "\n",
      "\n",
      "\n"
     ]
    }
   ],
   "source": [
    "print(\"process is starting\")\n",
    "f = open(\"inputfile.txt\", encoding=\"utf8\")\n",
    "text = \"\"\n",
    "for x in f:\n",
    "    print(x)\n",
    "    text += x"
   ]
  },
  {
   "cell_type": "code",
   "execution_count": 7,
   "metadata": {},
   "outputs": [
    {
     "name": "stdout",
     "output_type": "stream",
     "text": [
      "Sentences 37 ['It is always the problem of how to change an ideal into reality that gets in the way of both the leaders and the people.', 'A thought is not a deed and never will be.', 'We are not magic men.', 'We cannot imagine something into existence - especially a change of behaviour.', 'Just as we have been conditioned to be what we are now - greedy, competitive, stingy, mean - so we need to learn to love, to learn to be free.', 'Freedom is a difficult thing to handle.', 'How many people given the complete freedom to do whatever they like would die of boredom?', 'No structure, no rules, no compulsion to work from nine to five, no one telling us when to do this, do that - it sounds great until we try it.', \"We've learned to be directed by so many others - by mommy, daddy, teacher, principal, boss, policeman, politician, bureaucrat, etc.\", '- that freedom from all this could be overwhelming.', 'Imagine: making love, eating, sleeping, playing ... and ... ho, hum, now what?', 'Where do you go and what do you do when the trip ends?', \"Give people freedom and they'll do all the things they thought they never had a chance to do.\", \"But that won't take very long.\", 'And after that?', \"After that, my friend, it'll be time to make your life meaningful.\", \"Can you do it if you're free?\", 'Can you do it if others no longer require you to do what they say is best?', 'Authority is only necessary for those who need it.', \"Most of us need it because we've been taught to believe that we have to be concerned about others.\", \"For instance: 'You're selfish if you think of yourself,' or even: 'Ask not what your country can do for you, ask what you can do for your country.'\", \"Sorry friends, but that's all Christian, authoritarian, manipulative bullshit.\", \"You've got to get in touch with what your real needs are before you can begin to be of value to others.\", 'The other-directedness of Americans that is promoted by mom, God, and the flag has pushed us to the precipice of Fascism in this country.', \"We are no longer able to think for ourselves, we think for the 'good' of others.\", \"'Who am I?\", \"', 'What do I really want out of life?'\", 'These are considered selfish questions.', 'So a whole society goes down the drain.', \"So it is with communes, whose members are too eager to help their curious 'brothers,' who find it remarkably easy to create all kinds of physical and figurative mess and then leave it for the members to clean up.\", \"Challenges to this traditional, other-directed, do-gooder mystique are met with admonitions and scoldings: 'Why are you so selfish, all the time thinking only about yourself?\", \"Don't you have any regard for the rights of others?'\", \"(The intent and frequent effect of such a question is to make one feel guilty and consequently willing to conform to the 'altruistic' wishes of others.)\", 'And because we have become so confused about what is really important to us as individuals, we believe these admonitions - and with good reason.', \"Our demands are indeed 'selfish'.\", 'As we are no longer capable of knowing who we really are, we are compelled and desire to be like someone (everyone) else.', 'We feel we must have money, a new car, power, position, prestige, and an all too material sense of personal worth.']\n"
     ]
    }
   ],
   "source": [
    "# tokenize the sentences\n",
    "\n",
    "sentences = sent_tokenize(text.strip())\n",
    "print('Sentences', len(sentences), sentences)"
   ]
  },
  {
   "cell_type": "code",
   "execution_count": 8,
   "metadata": {},
   "outputs": [
    {
     "name": "stdout",
     "output_type": "stream",
     "text": [
      "Preprocessing text\n",
      "Clean Words 240 ['alway', 'problem', 'chang', 'ideal', 'realiti', 'get', 'way', 'leader', 'peopl', 'thought', 'deed', 'never', 'magic', 'men', 'imagin', 'someth', 'exist', 'especi', 'chang', 'behaviour', 'condit', 'greedi', 'competit', 'stingi', 'mean', 'need', 'learn', 'love', 'learn', 'free', 'freedom', 'difficult', 'thing', 'handl', 'mani', 'peopl', 'given', 'complet', 'freedom', 'whatev', 'like', 'would', 'die', 'boredom', 'structur', 'rule', 'compuls', 'work', 'nine', 'five', 'one', 'tell', 'us', 'thi', 'sound', 'great', 'tri', 'learn', 'direct', 'mani', 'mommi', 'daddi', 'teacher', 'princip', 'boss', 'policeman', 'politician', 'bureaucrat', 'etc', 'freedom', 'thi', 'could', 'overwhelm', 'imagin', 'make', 'love', 'eat', 'sleep', 'play', 'ho', 'hum', 'go', 'trip', 'end', 'give', 'peopl', 'freedom', 'thing', 'thought', 'never', 'chanc', 'wo', 'take', 'veri', 'long', 'friend', 'time', 'make', 'life', 'meaning', 'free', 'longer', 'requir', 'say', 'best', 'author', 'onli', 'necessari', 'need', 'us', 'need', 'becaus', 'taught', 'believ', 'concern', 'instanc', 'selfish', 'think', 'even', 'countri', 'ask', 'countri', 'sorri', 'friend', 'christian', 'authoritarian', 'manipul', 'bullshit', 'got', 'get', 'touch', 'real', 'need', 'befor', 'begin', 'valu', 'american', 'promot', 'mom', 'god', 'flag', 'ha', 'push', 'us', 'precipic', 'fascism', 'thi', 'countri', 'longer', 'abl', 'think', 'ourselv', 'think', 'realli', 'want', 'life', 'consid', 'selfish', 'question', 'whole', 'societi', 'goe', 'drain', 'commun', 'whose', 'member', 'eager', 'help', 'curiou', 'find', 'remark', 'easi', 'creat', 'kind', 'physic', 'figur', 'mess', 'leav', 'member', 'clean', 'challeng', 'thi', 'tradit', 'mystiqu', 'met', 'admonit', 'scold', 'selfish', 'time', 'think', 'onli', 'ani', 'regard', 'right', 'intent', 'frequent', 'effect', 'question', 'make', 'one', 'feel', 'guilti', 'consequ', 'conform', 'wish', 'becaus', 'becom', 'confus', 'realli', 'import', 'us', 'individu', 'believ', 'admonit', 'good', 'reason', 'demand', 'inde', 'longer', 'capabl', 'know', 'realli', 'compel', 'desir', 'like', 'someon', 'everyon', 'els', 'feel', 'must', 'money', 'new', 'car', 'power', 'posit', 'prestig', 'materi', 'sens', 'person', 'worth']\n"
     ]
    }
   ],
   "source": [
    "clean_words = text_preprocessing(sentences)\n",
    "print('Clean Words', len(clean_words), clean_words)"
   ]
  },
  {
   "cell_type": "code",
   "execution_count": 9,
   "metadata": {},
   "outputs": [
    {
     "name": "stdout",
     "output_type": "stream",
     "text": [
      "Creating word frequency table\n",
      "Frequency Table {'alway': 1, 'problem': 1, 'chang': 2, 'ideal': 1, 'realiti': 1, 'get': 2, 'way': 1, 'leader': 1, 'peopl': 3, 'thought': 2, 'deed': 1, 'never': 2, 'magic': 1, 'men': 1, 'imagin': 2, 'someth': 1, 'exist': 1, 'especi': 1, 'behaviour': 1, 'condit': 1, 'greedi': 1, 'competit': 1, 'stingi': 1, 'mean': 1, 'need': 4, 'learn': 3, 'love': 2, 'free': 2, 'freedom': 4, 'difficult': 1, 'thing': 2, 'handl': 1, 'mani': 2, 'given': 1, 'complet': 1, 'whatev': 1, 'like': 2, 'would': 1, 'die': 1, 'boredom': 1, 'structur': 1, 'rule': 1, 'compuls': 1, 'work': 1, 'nine': 1, 'five': 1, 'one': 2, 'tell': 1, 'us': 4, 'thi': 4, 'sound': 1, 'great': 1, 'tri': 1, 'direct': 1, 'mommi': 1, 'daddi': 1, 'teacher': 1, 'princip': 1, 'boss': 1, 'policeman': 1, 'politician': 1, 'bureaucrat': 1, 'etc': 1, 'could': 1, 'overwhelm': 1, 'make': 3, 'eat': 1, 'sleep': 1, 'play': 1, 'ho': 1, 'hum': 1, 'go': 1, 'trip': 1, 'end': 1, 'give': 1, 'chanc': 1, 'wo': 1, 'take': 1, 'veri': 1, 'long': 1, 'friend': 2, 'time': 2, 'life': 2, 'meaning': 1, 'longer': 3, 'requir': 1, 'say': 1, 'best': 1, 'author': 1, 'onli': 2, 'necessari': 1, 'becaus': 2, 'taught': 1, 'believ': 2, 'concern': 1, 'instanc': 1, 'selfish': 3, 'think': 4, 'even': 1, 'countri': 3, 'ask': 1, 'sorri': 1, 'christian': 1, 'authoritarian': 1, 'manipul': 1, 'bullshit': 1, 'got': 1, 'touch': 1, 'real': 1, 'befor': 1, 'begin': 1, 'valu': 1, 'american': 1, 'promot': 1, 'mom': 1, 'god': 1, 'flag': 1, 'ha': 1, 'push': 1, 'precipic': 1, 'fascism': 1, 'abl': 1, 'ourselv': 1, 'realli': 3, 'want': 1, 'consid': 1, 'question': 2, 'whole': 1, 'societi': 1, 'goe': 1, 'drain': 1, 'commun': 1, 'whose': 1, 'member': 2, 'eager': 1, 'help': 1, 'curiou': 1, 'find': 1, 'remark': 1, 'easi': 1, 'creat': 1, 'kind': 1, 'physic': 1, 'figur': 1, 'mess': 1, 'leav': 1, 'clean': 1, 'challeng': 1, 'tradit': 1, 'mystiqu': 1, 'met': 1, 'admonit': 2, 'scold': 1, 'ani': 1, 'regard': 1, 'right': 1, 'intent': 1, 'frequent': 1, 'effect': 1, 'feel': 2, 'guilti': 1, 'consequ': 1, 'conform': 1, 'wish': 1, 'becom': 1, 'confus': 1, 'import': 1, 'individu': 1, 'good': 1, 'reason': 1, 'demand': 1, 'inde': 1, 'capabl': 1, 'know': 1, 'compel': 1, 'desir': 1, 'someon': 1, 'everyon': 1, 'els': 1, 'must': 1, 'money': 1, 'new': 1, 'car': 1, 'power': 1, 'posit': 1, 'prestig': 1, 'materi': 1, 'sens': 1, 'person': 1, 'worth': 1}\n"
     ]
    }
   ],
   "source": [
    "freq_table = create_word_frequency_table(clean_words)\n",
    "print('Frequency Table', freq_table)"
   ]
  },
  {
   "cell_type": "code",
   "execution_count": 10,
   "metadata": {},
   "outputs": [
    {
     "name": "stdout",
     "output_type": "stream",
     "text": [
      "Creating sentence score table\n",
      "Sentence values {'It is always the problem of how to change an ideal into reality that gets in the way of both the leaders and the people.': 15, 'A thought is not a deed and never will be.': 6, 'We are not magic men.': 2, 'We cannot imagine something into existence - especially a change of behaviour.': 16, 'Just as we have been conditioned to be what we are now - greedy, competitive, stingy, mean - so we need to learn to love, to learn to be free.': 22, 'Freedom is a difficult thing to handle.': 15, 'How many people given the complete freedom to do whatever they like would die of boredom?': 21, 'No structure, no rules, no compulsion to work from nine to five, no one telling us when to do this, do that - it sounds great until we try it.': 23, \"We've learned to be directed by so many others - by mommy, daddy, teacher, principal, boss, policeman, politician, bureaucrat, etc.\": 12, '- that freedom from all this could be overwhelming.': 14, 'Imagine: making love, eating, sleeping, playing ... and ... ho, hum, now what?': 10, 'Where do you go and what do you do when the trip ends?': 5, \"Give people freedom and they'll do all the things they thought they never had a chance to do.\": 23, \"But that won't take very long.\": 4, 'And after that?': 1, \"After that, my friend, it'll be time to make your life meaningful.\": 14, \"Can you do it if you're free?\": 2, 'Can you do it if others no longer require you to do what they say is best?': 8, 'Authority is only necessary for those who need it.': 6, \"Most of us need it because we've been taught to believe that we have to be concerned about others.\": 16, \"For instance: 'You're selfish if you think of yourself,' or even: 'Ask not what your country can do for you, ask what you can do for your country.'\": 16, \"Sorry friends, but that's all Christian, authoritarian, manipulative bullshit.\": 13, \"You've got to get in touch with what your real needs are before you can begin to be of value to others.\": 14, 'The other-directedness of Americans that is promoted by mom, God, and the flag has pushed us to the precipice of Fascism in this country.': 19, \"We are no longer able to think for ourselves, we think for the 'good' of others.\": 17, \"'Who am I?\": 1, \"', 'What do I really want out of life?'\": 5, 'These are considered selfish questions.': 7, 'So a whole society goes down the drain.': 5, \"So it is with communes, whose members are too eager to help their curious 'brothers,' who find it remarkably easy to create all kinds of physical and figurative mess and then leave it for the members to clean up.\": 25, \"Challenges to this traditional, other-directed, do-gooder mystique are met with admonitions and scoldings: 'Why are you so selfish, all the time thinking only about yourself?\": 25, \"Don't you have any regard for the rights of others?'\": 3, \"(The intent and frequent effect of such a question is to make one feel guilty and consequently willing to conform to the 'altruistic' wishes of others.)\": 16, 'And because we have become so confused about what is really important to us as individuals, we believe these admonitions - and with good reason.': 21, \"Our demands are indeed 'selfish'.\": 7, 'As we are no longer capable of knowing who we really are, we are compelled and desire to be like someone (everyone) else.': 18, 'We feel we must have money, a new car, power, position, prestige, and an all too material sense of personal worth.': 22}\n"
     ]
    }
   ],
   "source": [
    "sent_values = create_sentence_score_table(sentences, freq_table)\n",
    "print('Sentence values', sent_values)"
   ]
  },
  {
   "cell_type": "code",
   "execution_count": 11,
   "metadata": {},
   "outputs": [],
   "source": [
    "total_sentence_count = len(sent_values)\n",
    "summary_sentence_count = total_sentence_count//2"
   ]
  },
  {
   "cell_type": "code",
   "execution_count": 12,
   "metadata": {},
   "outputs": [
    {
     "name": "stdout",
     "output_type": "stream",
     "text": [
      "So it is with communes, whose members are too eager to help their curious 'brothers,' who find it remarkably easy to create all kinds of physical and figurative mess and then leave it for the members to clean up.Challenges to this traditional, other-directed, do-gooder mystique are met with admonitions and scoldings: 'Why are you so selfish, all the time thinking only about yourself?No structure, no rules, no compulsion to work from nine to five, no one telling us when to do this, do that - it sounds great until we try it.Give people freedom and they'll do all the things they thought they never had a chance to do.Just as we have been conditioned to be what we are now - greedy, competitive, stingy, mean - so we need to learn to love, to learn to be free.We feel we must have money, a new car, power, position, prestige, and an all too material sense of personal worth.How many people given the complete freedom to do whatever they like would die of boredom?And because we have become so confused about what is really important to us as individuals, we believe these admonitions - and with good reason.The other-directedness of Americans that is promoted by mom, God, and the flag has pushed us to the precipice of Fascism in this country.As we are no longer capable of knowing who we really are, we are compelled and desire to be like someone (everyone) else.We are no longer able to think for ourselves, we think for the 'good' of others.We cannot imagine something into existence - especially a change of behaviour.Most of us need it because we've been taught to believe that we have to be concerned about others.For instance: 'You're selfish if you think of yourself,' or even: 'Ask not what your country can do for you, ask what you can do for your country.'(The intent and frequent effect of such a question is to make one feel guilty and consequently willing to conform to the 'altruistic' wishes of others.)It is always the problem of how to change an ideal into reality that gets in the way of both the leaders and the people.Freedom is a difficult thing to handle.- that freedom from all this could be overwhelming.\n"
     ]
    }
   ],
   "source": [
    "summary = create_summary(sent_values,summary_sentence_count)\n",
    "print(summary)"
   ]
  },
  {
   "cell_type": "code",
   "execution_count": null,
   "metadata": {},
   "outputs": [],
   "source": []
  }
 ],
 "metadata": {
  "kernelspec": {
   "display_name": "Python 3",
   "language": "python",
   "name": "python3"
  },
  "language_info": {
   "codemirror_mode": {
    "name": "ipython",
    "version": 3
   },
   "file_extension": ".py",
   "mimetype": "text/x-python",
   "name": "python",
   "nbconvert_exporter": "python",
   "pygments_lexer": "ipython3",
   "version": "3.8.5"
  }
 },
 "nbformat": 4,
 "nbformat_minor": 4
}
